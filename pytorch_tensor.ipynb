{
  "nbformat": 4,
  "nbformat_minor": 0,
  "metadata": {
    "colab": {
      "name": "2017732054_남유상_assignment_6.ipynb",
      "provenance": []
    },
    "kernelspec": {
      "name": "python3",
      "display_name": "Python 3"
    },
    "language_info": {
      "name": "python"
    }
  },
  "cells": [
    {
      "cell_type": "markdown",
      "metadata": {
        "id": "-xeal27TYqmy"
      },
      "source": [
        "##**4 실습 (Assignment 3)**\n",
        "\n",
        "- 행렬 방정식 풀기\n",
        "  - 다음 행렬 방정식을 'Pseudo inverse matrix'를 이용해 풀기 (단, Pytorch만을 사용한다)\n",
        "  - $A^{T}A$의 역행렬이 존재한다고 가정\n",
        "  \\\n",
        "  \\\n",
        "$$Ax=B$$\n",
        "$$A =\\left[\\begin{array}{rr} \n",
        "0&1\\\\\n",
        "1&1\\\\\n",
        "2&1\\\\\n",
        "3&1\n",
        "\\end{array}\\right]$$\n",
        "$$B =\\left[\\begin{array}{r} \n",
        "-1\\\\\n",
        "0.2\\\\\n",
        "0.9\\\\\n",
        "2.1\n",
        "\\end{array}\\right]$$"
      ]
    },
    {
      "cell_type": "markdown",
      "metadata": {
        "id": "73aEESscc4-e"
      },
      "source": [
        "  - 공식\n",
        "$$ A^+ = (A^T*A)^{-1} * A^T $$"
      ]
    },
    {
      "cell_type": "code",
      "metadata": {
        "colab": {
          "base_uri": "https://localhost:8080/"
        },
        "id": "1Y5aB1lnXBM8",
        "outputId": "46827222-86eb-4f7b-f04e-3666b9475e15"
      },
      "source": [
        "import numpy as np\n",
        "import torch\n",
        "\n",
        "tensorA = torch.FloatTensor([[0,1],[1,1],[2,1],[3,1]])\n",
        "tensorB = torch.FloatTensor([[-1],[0.2],[0.9],[2.1]])\n",
        "\n",
        "#tensor_pseudo = torch.zeros(1,4)\n",
        "\n",
        "tensor_pseudo = torch.matmul(torch.inverse(torch.matmul(tensorA.T,tensorA)),tensorA.T)\n",
        "\n",
        "tensorANS = torch.matmul(tensor_pseudo,tensorB)\n",
        "\n",
        "print(tensorANS)\n"
      ],
      "execution_count": 26,
      "outputs": [
        {
          "output_type": "stream",
          "name": "stdout",
          "text": [
            "tensor([[ 1.0000],\n",
            "        [-0.9500]])\n"
          ]
        }
      ]
    },
    {
      "cell_type": "code",
      "metadata": {
        "id": "yhUvdYhJf-f2"
      },
      "source": [
        ""
      ],
      "execution_count": null,
      "outputs": []
    }
  ]
}