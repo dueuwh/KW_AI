{
  "nbformat": 4,
  "nbformat_minor": 0,
  "metadata": {
    "colab": {
      "name": "2017732054_남유상_assignment_7.ipynb",
      "provenance": []
    },
    "kernelspec": {
      "name": "python3",
      "display_name": "Python 3"
    },
    "language_info": {
      "name": "python"
    }
  },
  "cells": [
    {
      "cell_type": "markdown",
      "metadata": {
        "id": "bS6r6VQwO7EF"
      },
      "source": [
        "##**실습 (Assignment 7)**\n",
        "  - 행렬 방정식 풀기\n",
        "      - 다음 행렬 방정식을 'Linear Regression'을 이용해 풀어보자\n",
        "         * 적당한 learning rate를 찾아 1000 epoch 정도 계산해본다\n",
        "      - Hint: y = wx꼴로 변환해본다\n",
        "        * Ax=B에서는 x가 미지수이지만, y=wx에서는 w가 미지수임에 주의\n",
        "        *linear model에서 b를 없애기 위해서 nn.Linear()사용법을 검색하본다\n",
        "\\\n",
        "$$Ax=B$$\n",
        "$$A =\\left[\\begin{array}{rr} \n",
        "0&1\\\\\n",
        "1&1\\\\\n",
        "2&1\\\\\n",
        "3&1\n",
        "\\end{array}\\right]$$\n",
        "$$B =\\left[\\begin{array}{r} \n",
        "-1\\\\\n",
        "0.2\\\\\n",
        "0.9\\\\\n",
        "2.1\n",
        "\\end{array}\\right]$$"
      ]
    },
    {
      "cell_type": "code",
      "metadata": {
        "colab": {
          "base_uri": "https://localhost:8080/"
        },
        "id": "ctPF9TpTNkon",
        "outputId": "891a9aef-14b7-4e4c-a74c-f51489dc46f2"
      },
      "source": [
        "import numpy as np\n",
        "import torch\n",
        "import torch.nn as nn\n",
        "import torch.nn.functional as func\n",
        "import torch.optim as opt\n",
        "\n",
        "from google.colab import drive\n",
        "drive.mount('/content/drive')"
      ],
      "execution_count": null,
      "outputs": [
        {
          "output_type": "stream",
          "name": "stdout",
          "text": [
            "Mounted at /content/drive\n"
          ]
        }
      ]
    },
    {
      "cell_type": "code",
      "metadata": {
        "colab": {
          "base_uri": "https://localhost:8080/"
        },
        "id": "-WZZ9j7UWayM",
        "outputId": "94e8bf25-ac2e-432b-aaca-b0f63a3bf33b"
      },
      "source": [
        "torch.manual_seed(1)"
      ],
      "execution_count": null,
      "outputs": [
        {
          "output_type": "execute_result",
          "data": {
            "text/plain": [
              "<torch._C.Generator at 0x7ff153a6fad0>"
            ]
          },
          "metadata": {},
          "execution_count": 115
        }
      ]
    },
    {
      "cell_type": "code",
      "metadata": {
        "id": "C6uGU9hbO5dx"
      },
      "source": [
        "tensorA = torch.FloatTensor([[0,1],[1,1],[2,1],[3,1]])\n",
        "tensorB = torch.FloatTensor([[-1],[0.2],[0.9],[2.1]])\n",
        "#print(tensorA)"
      ],
      "execution_count": null,
      "outputs": []
    },
    {
      "cell_type": "code",
      "metadata": {
        "id": "MSQcQ8MPO7SV"
      },
      "source": [
        "model = nn.Linear(2,1,bias=False)"
      ],
      "execution_count": null,
      "outputs": []
    },
    {
      "cell_type": "code",
      "metadata": {
        "colab": {
          "base_uri": "https://localhost:8080/"
        },
        "id": "4z30OU9aWvMT",
        "outputId": "b1ddbc26-a58d-4dec-cd14-6684fb78924a"
      },
      "source": [
        "print(list(model.parameters()))"
      ],
      "execution_count": null,
      "outputs": [
        {
          "output_type": "stream",
          "name": "stdout",
          "text": [
            "[Parameter containing:\n",
            "tensor([[ 0.3643, -0.3121]], requires_grad=True)]\n"
          ]
        }
      ]
    },
    {
      "cell_type": "code",
      "metadata": {
        "colab": {
          "base_uri": "https://localhost:8080/"
        },
        "id": "2zoGvtRuXYxt",
        "outputId": "b519dfef-bc0b-404b-9cce-5757b5a868f6"
      },
      "source": [
        "y_hypo = model(tensorA)\n",
        "print(y_hypo)"
      ],
      "execution_count": null,
      "outputs": [
        {
          "output_type": "stream",
          "name": "stdout",
          "text": [
            "tensor([[-0.3121],\n",
            "        [ 0.0522],\n",
            "        [ 0.4166],\n",
            "        [ 0.7809]], grad_fn=<MmBackward>)\n"
          ]
        }
      ]
    },
    {
      "cell_type": "code",
      "metadata": {
        "colab": {
          "base_uri": "https://localhost:8080/"
        },
        "id": "UVfqZTdtZT16",
        "outputId": "8be8938f-b839-4e64-ecb0-7934b13ed0e3"
      },
      "source": [
        "cost = func.mse_loss(y_hypo, tensorA)\n",
        "print(cost)"
      ],
      "execution_count": null,
      "outputs": [
        {
          "output_type": "stream",
          "name": "stdout",
          "text": [
            "tensor(1.4294, grad_fn=<MseLossBackward>)\n"
          ]
        },
        {
          "output_type": "stream",
          "name": "stderr",
          "text": [
            "/usr/local/lib/python3.7/dist-packages/ipykernel_launcher.py:1: UserWarning: Using a target size (torch.Size([4, 2])) that is different to the input size (torch.Size([4, 1])). This will likely lead to incorrect results due to broadcasting. Please ensure they have the same size.\n",
            "  \"\"\"Entry point for launching an IPython kernel.\n"
          ]
        }
      ]
    },
    {
      "cell_type": "code",
      "metadata": {
        "id": "cQvRZeLSWyFK"
      },
      "source": [
        "optimizer = torch.optim.SGD(model.parameters(), lr=1e-2)"
      ],
      "execution_count": null,
      "outputs": []
    },
    {
      "cell_type": "code",
      "metadata": {
        "colab": {
          "base_uri": "https://localhost:8080/"
        },
        "id": "PLfmNjGhXEnP",
        "outputId": "68124258-b5cf-4301-c300-cbca0677de19"
      },
      "source": [
        "EpochNum = 10000\n",
        "for epoch in range(EpochNum+1):\n",
        "   y_hypo = model(tensorA)\n",
        "   cost = func.mse_loss(y_hypo, tensorB)\n",
        "\n",
        "   optimizer.zero_grad()\n",
        "   cost.backward()\n",
        "   optimizer.step()\n",
        "\n",
        "   if epoch % 100 == 0:\n",
        "     print('Epoch {:4d}/{} Cost: {:.6f}'.format(epoch, EpochNum, cost.item()))\n",
        "print(list(model.parameters()))"
      ],
      "execution_count": null,
      "outputs": [
        {
          "output_type": "stream",
          "name": "stdout",
          "text": [
            "Epoch    0/10000 Cost: 0.617162\n",
            "Epoch  100/10000 Cost: 0.077246\n",
            "Epoch  200/10000 Cost: 0.032132\n",
            "Epoch  300/10000 Cost: 0.018453\n",
            "Epoch  400/10000 Cost: 0.014305\n",
            "Epoch  500/10000 Cost: 0.013047\n",
            "Epoch  600/10000 Cost: 0.012666\n",
            "Epoch  700/10000 Cost: 0.012550\n",
            "Epoch  800/10000 Cost: 0.012515\n",
            "Epoch  900/10000 Cost: 0.012505\n",
            "Epoch 1000/10000 Cost: 0.012501\n",
            "Epoch 1100/10000 Cost: 0.012500\n",
            "Epoch 1200/10000 Cost: 0.012500\n",
            "Epoch 1300/10000 Cost: 0.012500\n",
            "Epoch 1400/10000 Cost: 0.012500\n",
            "Epoch 1500/10000 Cost: 0.012500\n",
            "Epoch 1600/10000 Cost: 0.012500\n",
            "Epoch 1700/10000 Cost: 0.012500\n",
            "Epoch 1800/10000 Cost: 0.012500\n",
            "Epoch 1900/10000 Cost: 0.012500\n",
            "Epoch 2000/10000 Cost: 0.012500\n",
            "Epoch 2100/10000 Cost: 0.012500\n",
            "Epoch 2200/10000 Cost: 0.012500\n",
            "Epoch 2300/10000 Cost: 0.012500\n",
            "Epoch 2400/10000 Cost: 0.012500\n",
            "Epoch 2500/10000 Cost: 0.012500\n",
            "Epoch 2600/10000 Cost: 0.012500\n",
            "Epoch 2700/10000 Cost: 0.012500\n",
            "Epoch 2800/10000 Cost: 0.012500\n",
            "Epoch 2900/10000 Cost: 0.012500\n",
            "Epoch 3000/10000 Cost: 0.012500\n",
            "Epoch 3100/10000 Cost: 0.012500\n",
            "Epoch 3200/10000 Cost: 0.012500\n",
            "Epoch 3300/10000 Cost: 0.012500\n",
            "Epoch 3400/10000 Cost: 0.012500\n",
            "Epoch 3500/10000 Cost: 0.012500\n",
            "Epoch 3600/10000 Cost: 0.012500\n",
            "Epoch 3700/10000 Cost: 0.012500\n",
            "Epoch 3800/10000 Cost: 0.012500\n",
            "Epoch 3900/10000 Cost: 0.012500\n",
            "Epoch 4000/10000 Cost: 0.012500\n",
            "Epoch 4100/10000 Cost: 0.012500\n",
            "Epoch 4200/10000 Cost: 0.012500\n",
            "Epoch 4300/10000 Cost: 0.012500\n",
            "Epoch 4400/10000 Cost: 0.012500\n",
            "Epoch 4500/10000 Cost: 0.012500\n",
            "Epoch 4600/10000 Cost: 0.012500\n",
            "Epoch 4700/10000 Cost: 0.012500\n",
            "Epoch 4800/10000 Cost: 0.012500\n",
            "Epoch 4900/10000 Cost: 0.012500\n",
            "Epoch 5000/10000 Cost: 0.012500\n",
            "Epoch 5100/10000 Cost: 0.012500\n",
            "Epoch 5200/10000 Cost: 0.012500\n",
            "Epoch 5300/10000 Cost: 0.012500\n",
            "Epoch 5400/10000 Cost: 0.012500\n",
            "Epoch 5500/10000 Cost: 0.012500\n",
            "Epoch 5600/10000 Cost: 0.012500\n",
            "Epoch 5700/10000 Cost: 0.012500\n",
            "Epoch 5800/10000 Cost: 0.012500\n",
            "Epoch 5900/10000 Cost: 0.012500\n",
            "Epoch 6000/10000 Cost: 0.012500\n",
            "Epoch 6100/10000 Cost: 0.012500\n",
            "Epoch 6200/10000 Cost: 0.012500\n",
            "Epoch 6300/10000 Cost: 0.012500\n",
            "Epoch 6400/10000 Cost: 0.012500\n",
            "Epoch 6500/10000 Cost: 0.012500\n",
            "Epoch 6600/10000 Cost: 0.012500\n",
            "Epoch 6700/10000 Cost: 0.012500\n",
            "Epoch 6800/10000 Cost: 0.012500\n",
            "Epoch 6900/10000 Cost: 0.012500\n",
            "Epoch 7000/10000 Cost: 0.012500\n",
            "Epoch 7100/10000 Cost: 0.012500\n",
            "Epoch 7200/10000 Cost: 0.012500\n",
            "Epoch 7300/10000 Cost: 0.012500\n",
            "Epoch 7400/10000 Cost: 0.012500\n",
            "Epoch 7500/10000 Cost: 0.012500\n",
            "Epoch 7600/10000 Cost: 0.012500\n",
            "Epoch 7700/10000 Cost: 0.012500\n",
            "Epoch 7800/10000 Cost: 0.012500\n",
            "Epoch 7900/10000 Cost: 0.012500\n",
            "Epoch 8000/10000 Cost: 0.012500\n",
            "Epoch 8100/10000 Cost: 0.012500\n",
            "Epoch 8200/10000 Cost: 0.012500\n",
            "Epoch 8300/10000 Cost: 0.012500\n",
            "Epoch 8400/10000 Cost: 0.012500\n",
            "Epoch 8500/10000 Cost: 0.012500\n",
            "Epoch 8600/10000 Cost: 0.012500\n",
            "Epoch 8700/10000 Cost: 0.012500\n",
            "Epoch 8800/10000 Cost: 0.012500\n",
            "Epoch 8900/10000 Cost: 0.012500\n",
            "Epoch 9000/10000 Cost: 0.012500\n",
            "Epoch 9100/10000 Cost: 0.012500\n",
            "Epoch 9200/10000 Cost: 0.012500\n",
            "Epoch 9300/10000 Cost: 0.012500\n",
            "Epoch 9400/10000 Cost: 0.012500\n",
            "Epoch 9500/10000 Cost: 0.012500\n",
            "Epoch 9600/10000 Cost: 0.012500\n",
            "Epoch 9700/10000 Cost: 0.012500\n",
            "Epoch 9800/10000 Cost: 0.012500\n",
            "Epoch 9900/10000 Cost: 0.012500\n",
            "Epoch 10000/10000 Cost: 0.012500\n",
            "[Parameter containing:\n",
            "tensor([[ 1.0000, -0.9500]], requires_grad=True)]\n"
          ]
        }
      ]
    },
    {
      "cell_type": "code",
      "metadata": {
        "colab": {
          "base_uri": "https://localhost:8080/"
        },
        "id": "aHY3zycgfqty",
        "outputId": "b3e68710-ef56-48ea-df97-b868e1d46d2f"
      },
      "source": [
        "tensorx=torch.FloatTensor([[1.0000],[-0.9500]])\n",
        "print(tensorx)\n",
        "print(tensorA)\n",
        "print(torch.matmul(tensorA,tensorx))"
      ],
      "execution_count": null,
      "outputs": [
        {
          "output_type": "stream",
          "name": "stdout",
          "text": [
            "tensor([[ 1.0000],\n",
            "        [-0.9500]])\n",
            "tensor([[0., 1.],\n",
            "        [1., 1.],\n",
            "        [2., 1.],\n",
            "        [3., 1.]])\n",
            "tensor([[-0.9500],\n",
            "        [ 0.0500],\n",
            "        [ 1.0500],\n",
            "        [ 2.0500]])\n"
          ]
        }
      ]
    },
    {
      "cell_type": "code",
      "metadata": {
        "id": "5v_X0SCmo1Z8"
      },
      "source": [
        ""
      ],
      "execution_count": null,
      "outputs": []
    }
  ]
}