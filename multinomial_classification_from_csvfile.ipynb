{
  "nbformat": 4,
  "nbformat_minor": 0,
  "metadata": {
    "colab": {
      "name": "2017732054_남유상_assignment_9.ipynb",
      "provenance": [],
      "collapsed_sections": []
    },
    "kernelspec": {
      "name": "python3",
      "display_name": "Python 3"
    },
    "language_info": {
      "name": "python"
    }
  },
  "cells": [
    {
      "cell_type": "markdown",
      "metadata": {
        "id": "sNrMlN0JenQX"
      },
      "source": [
        "## Assignment_9\n",
        "  - Data 파일을 이용한 Multinomial Classification\n",
        "    * data_multinomial_classification.csv을 이용해 학습한다\n",
        "      + 16개의 input, 1개의 output\n",
        "\n",
        "$$ [x_{1},......x_{16},y] $$\n",
        "\n",
        "  - Accuracy 95% 이상을 달성한다"
      ]
    },
    {
      "cell_type": "code",
      "metadata": {
        "colab": {
          "base_uri": "https://localhost:8080/"
        },
        "id": "v7FJM3OheNZO",
        "outputId": "1eff46db-5aba-46b0-dd4c-b64df932d9c3"
      },
      "source": [
        "import numpy as np\n",
        "import torch\n",
        "import torch.nn as nn\n",
        "import torch.nn.functional as func\n",
        "import torch.optim as opt\n",
        "import io\n",
        "import pandas as pd\n",
        "\n",
        "torch.manual_seed(1)"
      ],
      "execution_count": 1,
      "outputs": [
        {
          "output_type": "execute_result",
          "data": {
            "text/plain": [
              "<torch._C.Generator at 0x7fa1e85f5bb0>"
            ]
          },
          "metadata": {},
          "execution_count": 1
        }
      ]
    },
    {
      "cell_type": "code",
      "metadata": {
        "colab": {
          "base_uri": "https://localhost:8080/"
        },
        "id": "S8daofb9fcge",
        "outputId": "96756c2a-7430-4402-e7a3-da7126e1c53f"
      },
      "source": [
        "from google.colab import drive\n",
        "drive.mount('/content/drive')"
      ],
      "execution_count": 2,
      "outputs": [
        {
          "output_type": "stream",
          "name": "stdout",
          "text": [
            "Mounted at /content/drive\n"
          ]
        }
      ]
    },
    {
      "cell_type": "code",
      "metadata": {
        "id": "4Bzj_IQ7flNM"
      },
      "source": [
        "fileLocation = '/content/drive/MyDrive/Colab Notebooks/data_multinomial_classification.csv'\n",
        "#드라이브에 업로드한 파일 위치"
      ],
      "execution_count": 9,
      "outputs": []
    },
    {
      "cell_type": "code",
      "metadata": {
        "colab": {
          "base_uri": "https://localhost:8080/",
          "height": 203
        },
        "id": "jqI-Zbkbf4LA",
        "outputId": "2e23e886-dea1-476b-b1ab-648559ba0d90"
      },
      "source": [
        "rawData = pd.read_csv(fileLocation)\n",
        "rawData.head()\n",
        "#파일 불러오기"
      ],
      "execution_count": 10,
      "outputs": [
        {
          "output_type": "execute_result",
          "data": {
            "text/html": [
              "<div>\n",
              "<style scoped>\n",
              "    .dataframe tbody tr th:only-of-type {\n",
              "        vertical-align: middle;\n",
              "    }\n",
              "\n",
              "    .dataframe tbody tr th {\n",
              "        vertical-align: top;\n",
              "    }\n",
              "\n",
              "    .dataframe thead th {\n",
              "        text-align: right;\n",
              "    }\n",
              "</style>\n",
              "<table border=\"1\" class=\"dataframe\">\n",
              "  <thead>\n",
              "    <tr style=\"text-align: right;\">\n",
              "      <th></th>\n",
              "      <th>1</th>\n",
              "      <th>0</th>\n",
              "      <th>0.1</th>\n",
              "      <th>1.1</th>\n",
              "      <th>0.2</th>\n",
              "      <th>0.3</th>\n",
              "      <th>1.2</th>\n",
              "      <th>1.3</th>\n",
              "      <th>1.4</th>\n",
              "      <th>1.5</th>\n",
              "      <th>0.4</th>\n",
              "      <th>0.5</th>\n",
              "      <th>4</th>\n",
              "      <th>0.6</th>\n",
              "      <th>0.7</th>\n",
              "      <th>1.6</th>\n",
              "      <th>0.8</th>\n",
              "    </tr>\n",
              "  </thead>\n",
              "  <tbody>\n",
              "    <tr>\n",
              "      <th>0</th>\n",
              "      <td>1</td>\n",
              "      <td>0</td>\n",
              "      <td>0</td>\n",
              "      <td>1</td>\n",
              "      <td>0</td>\n",
              "      <td>0</td>\n",
              "      <td>0</td>\n",
              "      <td>1</td>\n",
              "      <td>1</td>\n",
              "      <td>1</td>\n",
              "      <td>0</td>\n",
              "      <td>0</td>\n",
              "      <td>4</td>\n",
              "      <td>1</td>\n",
              "      <td>0</td>\n",
              "      <td>1</td>\n",
              "      <td>0</td>\n",
              "    </tr>\n",
              "    <tr>\n",
              "      <th>1</th>\n",
              "      <td>0</td>\n",
              "      <td>0</td>\n",
              "      <td>1</td>\n",
              "      <td>0</td>\n",
              "      <td>0</td>\n",
              "      <td>1</td>\n",
              "      <td>1</td>\n",
              "      <td>1</td>\n",
              "      <td>1</td>\n",
              "      <td>0</td>\n",
              "      <td>0</td>\n",
              "      <td>1</td>\n",
              "      <td>0</td>\n",
              "      <td>1</td>\n",
              "      <td>0</td>\n",
              "      <td>0</td>\n",
              "      <td>3</td>\n",
              "    </tr>\n",
              "    <tr>\n",
              "      <th>2</th>\n",
              "      <td>1</td>\n",
              "      <td>0</td>\n",
              "      <td>0</td>\n",
              "      <td>1</td>\n",
              "      <td>0</td>\n",
              "      <td>0</td>\n",
              "      <td>1</td>\n",
              "      <td>1</td>\n",
              "      <td>1</td>\n",
              "      <td>1</td>\n",
              "      <td>0</td>\n",
              "      <td>0</td>\n",
              "      <td>4</td>\n",
              "      <td>0</td>\n",
              "      <td>0</td>\n",
              "      <td>1</td>\n",
              "      <td>0</td>\n",
              "    </tr>\n",
              "    <tr>\n",
              "      <th>3</th>\n",
              "      <td>1</td>\n",
              "      <td>0</td>\n",
              "      <td>0</td>\n",
              "      <td>1</td>\n",
              "      <td>0</td>\n",
              "      <td>0</td>\n",
              "      <td>1</td>\n",
              "      <td>1</td>\n",
              "      <td>1</td>\n",
              "      <td>1</td>\n",
              "      <td>0</td>\n",
              "      <td>0</td>\n",
              "      <td>4</td>\n",
              "      <td>1</td>\n",
              "      <td>0</td>\n",
              "      <td>1</td>\n",
              "      <td>0</td>\n",
              "    </tr>\n",
              "    <tr>\n",
              "      <th>4</th>\n",
              "      <td>1</td>\n",
              "      <td>0</td>\n",
              "      <td>0</td>\n",
              "      <td>1</td>\n",
              "      <td>0</td>\n",
              "      <td>0</td>\n",
              "      <td>0</td>\n",
              "      <td>1</td>\n",
              "      <td>1</td>\n",
              "      <td>1</td>\n",
              "      <td>0</td>\n",
              "      <td>0</td>\n",
              "      <td>4</td>\n",
              "      <td>1</td>\n",
              "      <td>0</td>\n",
              "      <td>1</td>\n",
              "      <td>0</td>\n",
              "    </tr>\n",
              "  </tbody>\n",
              "</table>\n",
              "</div>"
            ],
            "text/plain": [
              "   1  0  0.1  1.1  0.2  0.3  1.2  1.3  ...  1.5  0.4  0.5  4  0.6  0.7  1.6  0.8\n",
              "0  1  0    0    1    0    0    0    1  ...    1    0    0  4    1    0    1    0\n",
              "1  0  0    1    0    0    1    1    1  ...    0    0    1  0    1    0    0    3\n",
              "2  1  0    0    1    0    0    1    1  ...    1    0    0  4    0    0    1    0\n",
              "3  1  0    0    1    0    0    1    1  ...    1    0    0  4    1    0    1    0\n",
              "4  1  0    0    1    0    0    0    1  ...    1    0    0  4    1    0    1    0\n",
              "\n",
              "[5 rows x 17 columns]"
            ]
          },
          "metadata": {},
          "execution_count": 10
        }
      ]
    },
    {
      "cell_type": "code",
      "metadata": {
        "colab": {
          "base_uri": "https://localhost:8080/"
        },
        "id": "B53youWdf58V",
        "outputId": "6742459c-7c4d-4ce2-d4d4-b74d30938e33"
      },
      "source": [
        "feature_data = list(rawData.columns.values)\n",
        "arrayData = rawData.values\n",
        "print(arrayData)\n",
        "np.shape(arrayData)\n",
        "#csv파일을 배열로 변환"
      ],
      "execution_count": 11,
      "outputs": [
        {
          "output_type": "stream",
          "name": "stdout",
          "text": [
            "[[1 0 0 ... 0 1 0]\n",
            " [0 0 1 ... 0 0 3]\n",
            " [1 0 0 ... 0 1 0]\n",
            " ...\n",
            " [1 0 0 ... 0 1 0]\n",
            " [0 0 1 ... 0 0 6]\n",
            " [0 1 1 ... 0 0 1]]\n"
          ]
        },
        {
          "output_type": "execute_result",
          "data": {
            "text/plain": [
              "(100, 17)"
            ]
          },
          "metadata": {},
          "execution_count": 11
        }
      ]
    },
    {
      "cell_type": "code",
      "metadata": {
        "colab": {
          "base_uri": "https://localhost:8080/"
        },
        "id": "f6kCNaQFgwba",
        "outputId": "7f09c150-e295-4222-abd6-74a2ed99eaa4"
      },
      "source": [
        "xData = arrayData[0 :, 0:16]\n",
        "\n",
        "yData = arrayData[0 :, 16]\n",
        "\n",
        "print(np.shape(xData))\n",
        "print(np.shape(yData))\n",
        "print(xData)\n",
        "print(yData)\n",
        "#xData, yData를 선언"
      ],
      "execution_count": 19,
      "outputs": [
        {
          "output_type": "stream",
          "name": "stdout",
          "text": [
            "(100, 16)\n",
            "(100,)\n",
            "[[1 0 0 ... 1 0 1]\n",
            " [0 0 1 ... 1 0 0]\n",
            " [1 0 0 ... 0 0 1]\n",
            " ...\n",
            " [1 0 0 ... 1 0 1]\n",
            " [0 0 1 ... 0 0 0]\n",
            " [0 1 1 ... 1 0 0]]\n",
            "[0 3 0 0 0 0 3 3 0 0 1 3 6 6 6 1 0 3 0 1 1 0 1 5 4 4 0 0 0 5 0 0 1 3 0 0 1\n",
            " 3 5 5 1 5 1 0 0 6 0 0 0 0 5 4 6 0 0 1 1 1 1 3 3 2 0 0 0 0 0 0 0 0 1 6 3 0\n",
            " 0 2 6 1 1 2 6 3 1 0 6 3 1 5 4 2 2 3 0 0 1 0 5 0 6 1]\n"
          ]
        }
      ]
    },
    {
      "cell_type": "code",
      "metadata": {
        "colab": {
          "base_uri": "https://localhost:8080/"
        },
        "id": "OOfQ2iIeg5D3",
        "outputId": "14b28f26-88d8-4a2a-ba7f-af53f646bec3"
      },
      "source": [
        "xData_T = torch.Tensor(xData)\n",
        "yData_T = torch.LongTensor(yData)\n",
        "print(np.shape(xData_T))\n",
        "print(np.shape(yData_T))\n",
        "print(yData_T)\n",
        "#xData, yData를 tensor로 변환"
      ],
      "execution_count": 38,
      "outputs": [
        {
          "output_type": "stream",
          "name": "stdout",
          "text": [
            "torch.Size([100, 16])\n",
            "torch.Size([100])\n",
            "tensor([0, 3, 0, 0, 0, 0, 3, 3, 0, 0, 1, 3, 6, 6, 6, 1, 0, 3, 0, 1, 1, 0, 1, 5,\n",
            "        4, 4, 0, 0, 0, 5, 0, 0, 1, 3, 0, 0, 1, 3, 5, 5, 1, 5, 1, 0, 0, 6, 0, 0,\n",
            "        0, 0, 5, 4, 6, 0, 0, 1, 1, 1, 1, 3, 3, 2, 0, 0, 0, 0, 0, 0, 0, 0, 1, 6,\n",
            "        3, 0, 0, 2, 6, 1, 1, 2, 6, 3, 1, 0, 6, 3, 1, 5, 4, 2, 2, 3, 0, 0, 1, 0,\n",
            "        5, 0, 6, 1])\n"
          ]
        }
      ]
    },
    {
      "cell_type": "code",
      "metadata": {
        "id": "Jbf8YiE1mbYX"
      },
      "source": [
        "model =nn.Linear(16, 7)"
      ],
      "execution_count": 39,
      "outputs": []
    },
    {
      "cell_type": "code",
      "metadata": {
        "colab": {
          "base_uri": "https://localhost:8080/"
        },
        "id": "X5xMmyN9mi4a",
        "outputId": "c96705b2-c92d-40f4-d928-2f6683fe7e72"
      },
      "source": [
        "optimizer = opt.SGD(model.parameters(), lr=0.1)\n",
        "\n",
        "for epoch in range(1000):\n",
        "  Y_ANS = model(xData_T)\n",
        "  cost = func.cross_entropy(Y_ANS, yData_T)\n",
        "\n",
        "  optimizer.zero_grad()\n",
        "  cost.backward()\n",
        "  optimizer.step()\n",
        "\n",
        "  if epoch % 100 == 99:\n",
        "    prediction = Y_ANS.argmax(dim=1) == yData_T\n",
        "    accuracy = prediction.sum().item() / len(prediction)\n",
        "    print('Epoch {:4d}/{} Cost: {: 6f} Accuracy {:2.2f}%'. format(epoch, 1000, cost.item(), accuracy * 100))"
      ],
      "execution_count": 41,
      "outputs": [
        {
          "output_type": "stream",
          "name": "stdout",
          "text": [
            "Epoch   99/1000 Cost:  0.091617 Accuracy 100.00%\n",
            "Epoch  199/1000 Cost:  0.085068 Accuracy 100.00%\n",
            "Epoch  299/1000 Cost:  0.079403 Accuracy 100.00%\n",
            "Epoch  399/1000 Cost:  0.074454 Accuracy 100.00%\n",
            "Epoch  499/1000 Cost:  0.070091 Accuracy 100.00%\n",
            "Epoch  599/1000 Cost:  0.066216 Accuracy 100.00%\n",
            "Epoch  699/1000 Cost:  0.062751 Accuracy 100.00%\n",
            "Epoch  799/1000 Cost:  0.059633 Accuracy 100.00%\n",
            "Epoch  899/1000 Cost:  0.056813 Accuracy 100.00%\n",
            "Epoch  999/1000 Cost:  0.054251 Accuracy 100.00%\n"
          ]
        }
      ]
    },
    {
      "cell_type": "code",
      "metadata": {
        "id": "WUdwkv-boqqr"
      },
      "source": [
        ""
      ],
      "execution_count": null,
      "outputs": []
    }
  ]
}